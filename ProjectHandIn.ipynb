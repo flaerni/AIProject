{
  "nbformat": 4,
  "nbformat_minor": 0,
  "metadata": {
    "kernelspec": {
      "display_name": "Python 3",
      "language": "python",
      "name": "python3"
    },
    "language_info": {
      "codemirror_mode": {
        "name": "ipython",
        "version": 3
      },
      "file_extension": ".py",
      "mimetype": "text/x-python",
      "name": "python",
      "nbconvert_exporter": "python",
      "pygments_lexer": "ipython3",
      "version": "3.7.4"
    },
    "colab": {
      "name": "ProjectHandIn.ipynb",
      "provenance": [],
      "collapsed_sections": [],
      "toc_visible": true,
      "include_colab_link": true
    }
  },
  "cells": [
    {
      "cell_type": "markdown",
      "metadata": {
        "id": "view-in-github",
        "colab_type": "text"
      },
      "source": [
        "<a href=\"https://colab.research.google.com/github/flaerni/AIProject/blob/master/ProjectHandIn.ipynb\" target=\"_parent\"><img src=\"https://colab.research.google.com/assets/colab-badge.svg\" alt=\"Open In Colab\"/></a>"
      ]
    },
    {
      "cell_type": "markdown",
      "metadata": {
        "id": "H-CxAZyCfhw1",
        "colab_type": "text"
      },
      "source": [
        "# AI Technologies 2019"
      ]
    },
    {
      "cell_type": "markdown",
      "metadata": {
        "id": "1cUo7rS9fhw7",
        "colab_type": "text"
      },
      "source": [
        "## Student Project by Kumulil Kiran, Gonzalez Avilés Ruben Octavio, Aerni Florian (Group 5)\n",
        "\n"
      ]
    },
    {
      "cell_type": "markdown",
      "metadata": {
        "id": "U8mWIJPHfhxA",
        "colab_type": "text"
      },
      "source": [
        "## Introduction"
      ]
    },
    {
      "cell_type": "markdown",
      "metadata": {
        "id": "ZNFpB2hnfhxD",
        "colab_type": "text"
      },
      "source": [
        "A insurance company registered, that the eligibility assessment of applicants varied, depending on which employee assessed it. In order to harmonize the decision and maybe improve the decision finding process, the insurance company decided to implement a computer based system that consists of three parts:\n",
        "\n",
        "### 1. A decision-based system \n",
        "For the decision based system the human experts doing the assesments thus far were interviewed. The findings were formulated into written rules, these rules are the basis for the system.\n",
        "\n",
        "### 2. A Machine Learning-based system\n",
        "With the idea to maybe uncover hidden factors, we let a Neural Network (NN) to process data derived from past cases. A first goal is to train the NN, so that it can reproduce a decision when given a test case. In a further step, we try to derive, whether we focus on the right factors or if additional insight can be gained and injected into the decision making.\n",
        "\n",
        "### 3. The combination of the both systems\n",
        "Both systems are of relevance, but they might produce variying weightings in assessment. If the insights gained from the NN point in another direction than the decision-based system, we have to look carefully into these results. Further, both systems could produce insights valuable for refining the other tool and highlighting important factors.\n",
        "\n"
      ]
    },
    {
      "cell_type": "markdown",
      "metadata": {
        "id": "Ldy7KFwhfhxH",
        "colab_type": "text"
      },
      "source": [
        "## 1. A decision-based System\n",
        "\n",
        "### Formalizing the knowledge\n",
        "We first take a step back and have a look in which context this system is supposed to be active:\n",
        "An Applicant enters their data over a webpage. This data then is translated into the knowledge based system, where it is assessed. The trigger to assess the data will most probably be automated, for simplicity reason we here assume that an employee will manually execute the assessment.\n",
        "\n",
        "We have to bring the data derived from expert interviews into a format a machine can make us of. As an intermediate step, we translated the text-form results into a decision table:\n",
        "\n",
        "#### Decision Table Expert Knowledge\n",
        "https://drive.google.com/file/d/1ZiuXdyh2DM_yBvQFejp_SVModPjLILV9/view?usp=sharing\n",
        "\n",
        "![decision table](https://i.ibb.co/1bsSMC4/DTexpert-Knowledge.jpg)\n",
        "\n",
        "\n",
        "\n",
        "### The Prolog Program\n",
        "\n",
        "Starting from the decision table, we started to build a formalized version, namely in Prolog code. To simulate the first steps in the scenario, namely the data entry into the knowledge system, we created two ficitious customers named \"Dan\" and \"Peter\". For now the name serves as identifier, in runtime a unique identifier would have to be defined, for example an assigned applicant number.\n",
        "\n",
        "In this first attempt to formalize the rules as far as possible, there still was an uncertainty left about the relation between eligibility and the risk status. It was first interpreted, that risk status is not the output variable, rather part of the input, and the decision Eligible/Eligible with fee/not Eligible is asked for, thus the first version put out these. For the sake of completeness, this version can be found here:\n",
        "https://drive.google.com/file/d/15jV8mw57pn7DaAWkugTG31JrCkh4xaDN/view?usp=sharing\n",
        "These uncertainties later were resolved by clarification through our Expert (Prof. Dr. Holger Wache). The three risk status are synonym with the three eligibility status, thus the risk status is already the output and not considered part of the input. A new and final version of the Prolog Code was developed:\n",
        "\n",
        "#### Final Protoype Decision-Based System in Prolog\n",
        "https://drive.google.com/file/d/1g8Te671_lnGxFPUpNLUgxdAxHQQSG_c3/view?usp=sharing\n",
        "\n",
        "\n",
        "![Prolog Code](https://i.ibb.co/JxrHf1H/Prolog-Code-Refined.jpg)\n",
        "\n",
        "\n",
        "We here briefly provide insight about the functionality of the program sections, in addition to what is commented in the code itself:\n",
        "\n",
        "- The first section \"Facts\" is purely the simulation of the data input by the customers. \n",
        "\n",
        "- The section \"Basic rejection argument\" is checking the two basic guidlines for immediate rejection (Applicant not resident in Switzerland, Applicant younger than 21 or older than 70).\n",
        "\n",
        "- The section \"Risk evaluation\" is the core section of the program, where an applicant fulfilling basic requirements is acutally assessed. It is all pretty straight forward, checking the conditions described in the decision table. We here would like to point out \"not_special_factors()\", which is in the negated for for easier understanding - it makes use of the \"\\+\" for negation in prolog. Also, the two last predicates incorporate the inequation 4=5 to reverse when fireing, because we want to return \"true\" when the risk is medium (see last bullet point for detail)\n",
        "\n",
        "- A word about the \"counting function\", which turned out to be a piece de resistance. It took quite some experimenting and research online before we found a working way, making use of two prolog predicates length() and findall(). In our case, we exlusively use the function for counting the number of diseases, thus we hardcoded has_disease() in the counter. The way our counter works is as following: the method takes in a name (unique identifier of records) as well as the empty variable \"Count\". We pass the name into the findall predicate, which produces a list X, containing all cases of predicates being true with the given Name and any disease (\"_\" is passed as placeholder). After that, we use the length() method to pass the lenght of the list into the Count variable, which then will be given out to the caller of count(). Et voilà, disease counter.\n",
        "\n",
        "- To simplify the evaluation, the different checks are summarized in \"is_eligible(NAME)\". This is the call/query an employee would execute (prolog code: ?-is_eligible(peter).). It puts out the eligibility result, i.e. the risk status. We decided that the result should \"true\", when the candidate is either eligible or eligible with a risk compensation and therefore only \"false\" when the candidate is rejected. In any case one of the special factors fires, we provide an additional explenation making use of the \"write()\" functionality.\n",
        "\n"
      ]
    },
    {
      "cell_type": "markdown",
      "metadata": {
        "id": "Q2aTFO45fhxK",
        "colab_type": "text"
      },
      "source": [
        "## 2. A Machine Learning-based System\n",
        "\n",
        "From past cases, we are provided with a dataset containing the following information to each case:\n",
        "\n",
        "- age\n",
        "- surgery \n",
        "- docvisit\n",
        "- allergy\n",
        "- medication\n",
        "- disease\n",
        "- bmi\n",
        "----\n",
        "- class (output variable)\n",
        "\n",
        "Making use of the \"Keras\" library in the python programming universe, we set up train a neural network in a \"Google Colaboratory\". We here show the program, complemented with descriptions on functionality and what our design decisions are based on, guiding the reader through the process.\n",
        "\n",
        "#### Final Machine Leaning-based System for knowledge extraction\n"
      ]
    },
    {
      "cell_type": "markdown",
      "metadata": {
        "id": "GsITAC7qfhxM",
        "colab_type": "text"
      },
      "source": [
        "- **Loading the data**\n",
        "\n",
        "\n",
        "We import the data for the project and store it in a pandas dataframe. We then display the first five rows of the dataframe for visualization purposes. Also we will import all relevant libraries for our project.\n",
        "\n",
        "The data upload here is implemented using a google drive. It can also be done manually, the alternative code line is provided in a comment and .csv file is provided."
      ]
    },
    {
      "cell_type": "code",
      "metadata": {
        "id": "RLccw-BQfhxQ",
        "colab_type": "code",
        "outputId": "59dff7d5-3f27-436e-acbb-d5db988a8313",
        "colab": {
          "base_uri": "https://localhost:8080/",
          "height": 124
        }
      },
      "source": [
        "from google.colab import drive\n",
        "drive.mount('/content/drive')"
      ],
      "execution_count": 1,
      "outputs": [
        {
          "output_type": "stream",
          "text": [
            "Go to this URL in a browser: https://accounts.google.com/o/oauth2/auth?client_id=947318989803-6bn6qk8qdgf4n4g3pfee6491hc0brc4i.apps.googleusercontent.com&redirect_uri=urn%3Aietf%3Awg%3Aoauth%3A2.0%3Aoob&scope=email%20https%3A%2F%2Fwww.googleapis.com%2Fauth%2Fdocs.test%20https%3A%2F%2Fwww.googleapis.com%2Fauth%2Fdrive%20https%3A%2F%2Fwww.googleapis.com%2Fauth%2Fdrive.photos.readonly%20https%3A%2F%2Fwww.googleapis.com%2Fauth%2Fpeopleapi.readonly&response_type=code\n",
            "\n",
            "Enter your authorization code:\n",
            "··········\n",
            "Mounted at /content/drive\n"
          ],
          "name": "stdout"
        }
      ]
    },
    {
      "cell_type": "code",
      "metadata": {
        "id": "PqFNl45ofhxZ",
        "colab_type": "code",
        "outputId": "f2cdb562-324b-45d4-b113-893be003f708",
        "colab": {
          "base_uri": "https://localhost:8080/",
          "height": 121
        }
      },
      "source": [
        "import matplotlib.pyplot as plt\n",
        "import pandas as pd\n",
        "import tensorflow as tf \n",
        "import numpy as np\n",
        "\n",
        "\n",
        "df = pd.read_csv(\"/content/drive/My Drive/InsuranceData.csv\")\n",
        "\n",
        "\n",
        "# When not uploading via google drive, add the attached InsuranceData.csv to the \n",
        "# \"/content\" folder of colab and enter this codde (comment out line above):\n",
        "# df = pd.read_csv(\"/content/InsuranceData.csv\")\n",
        "\n",
        "print (df.head())"
      ],
      "execution_count": 5,
      "outputs": [
        {
          "output_type": "stream",
          "text": [
            "   age  surgery  docvisit allergy medication      disease  bmi class\n",
            "0   20        0         2      no         no  cholesterol   28   low\n",
            "1   21        0         4      no         no           no   23   low\n",
            "2   22        0         3      no         no           no   23   low\n",
            "3   23        0         3      no         no           no   23   low\n",
            "4   24        0         3      no         no           no   21   low\n"
          ],
          "name": "stdout"
        }
      ]
    },
    {
      "cell_type": "markdown",
      "metadata": {
        "id": "kcON1m9Mfhxh",
        "colab_type": "text"
      },
      "source": [
        "- **Normalizing the data**\n",
        "\n",
        "We start normalizing the data by replacing string values with integers. After that, we convert the whole table to floating point values. Since we are working with categorical data in column \"disease\", we need to split the column in three more columns (= the number of values). The reason for that is, there is no expected hierarchy within the different diseases, but simply replacing them with placeholder numbers (1,2,3) could imply so for the network.\n",
        "![normalizing categorical data](https://i.ibb.co/XpRKJHf/Screenshot-2019-10-20-at-11-25-31.png)"
      ]
    },
    {
      "cell_type": "code",
      "metadata": {
        "id": "RM9MdSs3fhxl",
        "colab_type": "code",
        "outputId": "fd7d56c7-1994-4760-e4dc-04618560b671",
        "colab": {
          "base_uri": "https://localhost:8080/",
          "height": 156
        }
      },
      "source": [
        "from sklearn.preprocessing import MinMaxScaler\n",
        "\n",
        "scaler = MinMaxScaler()\n",
        "\n",
        "df['allergy'] = df['allergy'].replace(['no'], 0)\n",
        "df['allergy'] = df['allergy'].replace(['yes'], 1)\n",
        "\n",
        "\n",
        "df['medication'] = df['medication'].replace(['no'], 0)\n",
        "df['medication'] = df['medication'].replace(['yes'], 1)\n",
        "\n",
        "df['cholesterol'] = np.where(df['disease'].str.contains('cholesterol'), 1, 0)\n",
        "df['diabetes'] = np.where(df['disease'].str.contains('diabetes'), 1, 0)\n",
        "df['heart'] = np.where(df['disease'].str.contains('heart'), 1, 0)\n",
        "del df['disease']\n",
        "\n",
        "\n",
        "df['class'] = df['class'].replace(['low'], 0)\n",
        "df['class'] = df['class'].replace(['medium'], 1)\n",
        "df['class'] = df['class'].replace(['high'], 2)\n",
        "\n",
        "\n",
        "df = df.astype(float)\n",
        "print (df.head())\n",
        "\n"
      ],
      "execution_count": 6,
      "outputs": [
        {
          "output_type": "stream",
          "text": [
            "    age  surgery  docvisit  allergy  ...  class  cholesterol  diabetes  heart\n",
            "0  20.0      0.0       2.0      0.0  ...    0.0          1.0       0.0    0.0\n",
            "1  21.0      0.0       4.0      0.0  ...    0.0          0.0       0.0    0.0\n",
            "2  22.0      0.0       3.0      0.0  ...    0.0          0.0       0.0    0.0\n",
            "3  23.0      0.0       3.0      0.0  ...    0.0          0.0       0.0    0.0\n",
            "4  24.0      0.0       3.0      0.0  ...    0.0          0.0       0.0    0.0\n",
            "\n",
            "[5 rows x 10 columns]\n"
          ],
          "name": "stdout"
        }
      ]
    },
    {
      "cell_type": "markdown",
      "metadata": {
        "id": "wQpNlLATfhxu",
        "colab_type": "text"
      },
      "source": [
        "- **Understanding data**\n",
        "\n",
        "To better understand what features are related how to the 'class' column, we will try to find a correlation between other values and the 'class' column. \n",
        "For visualization purposes we plot a correlation matrix and then we will also print out the correlation in an descending order to find out what features have the highest impact on the 'class' column."
      ]
    },
    {
      "cell_type": "code",
      "metadata": {
        "id": "bR3HGBWZfhxv",
        "colab_type": "code",
        "outputId": "7023832f-91f0-4759-de4b-f738985faf32",
        "colab": {
          "base_uri": "https://localhost:8080/",
          "height": 549
        }
      },
      "source": [
        "plt.matshow(df.corr())\n",
        "\n",
        "plt.xticks(range(df.shape[1]), df.columns, fontsize=14, rotation=65)\n",
        "plt.yticks(range(df.shape[1]), df.columns, fontsize=14)\n",
        "plt.show()\n",
        "\n",
        "cm = df.corr()\n",
        "cm = (cm['class'])\n",
        "\n",
        "cm = cm.sort_values(ascending=False)\n",
        "#first row is correlation of 'class' with 'class' which is 1.0 and therefore we can drop it\n",
        "cm = cm.iloc[1:]\n",
        "print (\"\\n\",\"Correlations:\")\n",
        "print(cm)"
      ],
      "execution_count": 7,
      "outputs": [
        {
          "output_type": "display_data",
          "data": {
            "image/png": "[encoded data removed]",
            "text/plain": [
              "<Figure size 288x288 with 1 Axes>"
            ]
          },
          "metadata": {
            "tags": []
          }
        },
        {
          "output_type": "stream",
          "text": [
            "\n",
            " Correlations:\n",
            "bmi            0.619975\n",
            "medication     0.507576\n",
            "heart          0.394043\n",
            "docvisit       0.352742\n",
            "diabetes       0.351464\n",
            "surgery        0.307645\n",
            "age            0.238346\n",
            "allergy        0.125123\n",
            "cholesterol    0.082152\n",
            "Name: class, dtype: float64\n"
          ],
          "name": "stdout"
        }
      ]
    },
    {
      "cell_type": "markdown",
      "metadata": {
        "id": "MYcrhLcmfhxz",
        "colab_type": "text"
      },
      "source": [
        "\n",
        "From the results we can see that 'class' has a strong correlation with 'bmi' and 'medication' and a rather weak correlation with 'cholesterol' and 'allergy'.\n",
        "Later we can also compare this results to the weighting, that our model assigned to the different input features.\n"
      ]
    },
    {
      "cell_type": "markdown",
      "metadata": {
        "id": "Tj7xh2AZfhx2",
        "colab_type": "text"
      },
      "source": [
        "- **Splitting and scaling data**\n",
        "\n",
        "We now create a feature matrix called x_df and a target vector with the solutions called y_df."
      ]
    },
    {
      "cell_type": "code",
      "metadata": {
        "id": "kbxCq4IFfhx4",
        "colab_type": "code",
        "colab": {}
      },
      "source": [
        "x_df = df.drop('class',axis=1)\n",
        "y_df = df['class']\n"
      ],
      "execution_count": 0,
      "outputs": []
    },
    {
      "cell_type": "markdown",
      "metadata": {
        "id": "OyAguILPfhx_",
        "colab_type": "text"
      },
      "source": [
        "We scale all values of the feature matrix in between 0 and 1 because our dataset contains features varying in magnitudes, units and range. We normalise the data here because the scale of features like bmi or age is irrelevant or misleading for our model."
      ]
    },
    {
      "cell_type": "code",
      "metadata": {
        "id": "2yWLh_DHfhyA",
        "colab_type": "code",
        "outputId": "1db42821-842d-4a02-e914-e962fff133d9",
        "colab": {
          "base_uri": "https://localhost:8080/",
          "height": 156
        }
      },
      "source": [
        "x_df = pd.DataFrame(scaler.fit_transform(x_df), columns=x_df.columns)\n",
        "\n",
        "print (x_df.head())"
      ],
      "execution_count": 9,
      "outputs": [
        {
          "output_type": "stream",
          "text": [
            "        age  surgery  docvisit  allergy  ...       bmi  cholesterol  diabetes  heart\n",
            "0  0.000000      0.0  0.111111      0.0  ...  0.571429          1.0       0.0    0.0\n",
            "1  0.014706      0.0  0.222222      0.0  ...  0.214286          0.0       0.0    0.0\n",
            "2  0.029412      0.0  0.166667      0.0  ...  0.214286          0.0       0.0    0.0\n",
            "3  0.044118      0.0  0.166667      0.0  ...  0.214286          0.0       0.0    0.0\n",
            "4  0.058824      0.0  0.166667      0.0  ...  0.071429          0.0       0.0    0.0\n",
            "\n",
            "[5 rows x 9 columns]\n"
          ],
          "name": "stdout"
        }
      ]
    },
    {
      "cell_type": "markdown",
      "metadata": {
        "id": "W4exQR_9fhyG",
        "colab_type": "text"
      },
      "source": [
        "Next we will convert the pandas dataframes into numpy arrays which will be the data for our machine learning model."
      ]
    },
    {
      "cell_type": "code",
      "metadata": {
        "id": "BO2pmI8zfhyI",
        "colab_type": "code",
        "outputId": "6649bd36-32a9-4725-be8d-8c1bbebcfffe",
        "colab": {
          "base_uri": "https://localhost:8080/",
          "height": 139
        }
      },
      "source": [
        "x_df_np = x_df.values\n",
        "y_df_np = y_df.values\n",
        "\n",
        "print(x_df_np)"
      ],
      "execution_count": 10,
      "outputs": [
        {
          "output_type": "stream",
          "text": [
            "[[0.         0.         0.11111111 ... 1.         0.         0.        ]\n",
            " [0.01470588 0.         0.22222222 ... 0.         0.         0.        ]\n",
            " [0.02941176 0.         0.16666667 ... 0.         0.         0.        ]\n",
            " ...\n",
            " [1.         0.5        1.         ... 0.         0.         0.        ]\n",
            " [1.         0.25       0.27777778 ... 0.         1.         0.        ]\n",
            " [1.         0.5        0.94444444 ... 0.         1.         0.        ]]\n"
          ],
          "name": "stdout"
        }
      ]
    },
    {
      "cell_type": "markdown",
      "metadata": {
        "id": "W1P_nphhfhyQ",
        "colab_type": "text"
      },
      "source": [
        "- **Creating the model with tensorflow**\n",
        "\n",
        "We create a model with 3 outputs corresponding to the 'class' column in our target vector. (\"low\", \"medium\", \"high\") For the input layer we will use 9 values which is the number of columns in our feature matrix, namely:\n",
        "\n",
        "age, surgery, docvisit, allergy, medication, bmi, cholesterol, diabetes, heart.\n",
        "\n",
        "The System topography further contains two hidden layers, first of which with 128 elements and the second with 28 elements. This pretty shallow architecture has been choosen as of the small data set and the pretty limited amount of input variables; it has also been refined thorugh thorough trial-and-error investigation, randomly altering the structure and comparing results.\n"
      ]
    },
    {
      "cell_type": "code",
      "metadata": {
        "id": "JyHhxOdffhyS",
        "colab_type": "code",
        "colab": {}
      },
      "source": [
        "model = tf.keras.models.Sequential()\n",
        "model.add(tf.keras.layers.Dense(9, activation=tf.nn.relu))\n",
        "model.add(tf.keras.layers.Dense(128, activation=tf.nn.relu))\n",
        "model.add(tf.keras.layers.Dense(28, activation=tf.nn.relu))\n",
        "model.add(tf.keras.layers.Dense(3, activation=tf.nn.softmax))"
      ],
      "execution_count": 0,
      "outputs": []
    },
    {
      "cell_type": "markdown",
      "metadata": {
        "id": "k587ZbDxfhyY",
        "colab_type": "text"
      },
      "source": [
        "- **Training the model with training data**\n",
        "\n",
        "We split the data into 75% training data and 25% test data using the \"validation_split\" variable in the model.fit method and train the model with 50 epochs to avoid overfitting."
      ]
    },
    {
      "cell_type": "code",
      "metadata": {
        "id": "7jZzX4tcfhya",
        "colab_type": "code",
        "outputId": "05c4d53f-c563-452f-e81e-6e096b552e55",
        "colab": {
          "base_uri": "https://localhost:8080/",
          "height": 1000
        }
      },
      "source": [
        "model.compile(optimizer='adam', loss='sparse_categorical_crossentropy',metrics=['accuracy'])\n",
        "history = model.fit(x_df_np, y_df_np, validation_split=0.25, epochs=50)\n",
        "\n"
      ],
      "execution_count": 24,
      "outputs": [
        {
          "output_type": "stream",
          "text": [
            "Train on 87 samples, validate on 30 samples\n",
            "Epoch 1/50\n",
            "87/87 [==============================] - 0s 2ms/sample - loss: 1.0972 - acc: 0.4483 - val_loss: 1.0540 - val_acc: 0.6000\n",
            "Epoch 2/50\n",
            "87/87 [==============================] - 0s 217us/sample - loss: 1.0795 - acc: 0.4023 - val_loss: 1.0431 - val_acc: 0.5333\n",
            "Epoch 3/50\n",
            "87/87 [==============================] - 0s 228us/sample - loss: 1.0628 - acc: 0.4023 - val_loss: 1.0304 - val_acc: 0.5333\n",
            "Epoch 4/50\n",
            "87/87 [==============================] - 0s 200us/sample - loss: 1.0533 - acc: 0.4023 - val_loss: 1.0204 - val_acc: 0.5333\n",
            "Epoch 5/50\n",
            "87/87 [==============================] - 0s 231us/sample - loss: 1.0397 - acc: 0.4138 - val_loss: 1.0120 - val_acc: 0.5333\n",
            "Epoch 6/50\n",
            "87/87 [==============================] - 0s 220us/sample - loss: 1.0290 - acc: 0.4138 - val_loss: 1.0060 - val_acc: 0.5333\n",
            "Epoch 7/50\n",
            "87/87 [==============================] - 0s 203us/sample - loss: 1.0184 - acc: 0.4138 - val_loss: 0.9948 - val_acc: 0.5333\n",
            "Epoch 8/50\n",
            "87/87 [==============================] - 0s 173us/sample - loss: 1.0075 - acc: 0.4138 - val_loss: 0.9801 - val_acc: 0.5333\n",
            "Epoch 9/50\n",
            "87/87 [==============================] - 0s 186us/sample - loss: 0.9980 - acc: 0.4138 - val_loss: 0.9626 - val_acc: 0.5333\n",
            "Epoch 10/50\n",
            "87/87 [==============================] - 0s 197us/sample - loss: 0.9876 - acc: 0.4138 - val_loss: 0.9482 - val_acc: 0.5333\n",
            "Epoch 11/50\n",
            "87/87 [==============================] - 0s 203us/sample - loss: 0.9767 - acc: 0.4138 - val_loss: 0.9341 - val_acc: 0.5333\n",
            "Epoch 12/50\n",
            "87/87 [==============================] - 0s 189us/sample - loss: 0.9647 - acc: 0.4138 - val_loss: 0.9268 - val_acc: 0.5333\n",
            "Epoch 13/50\n",
            "87/87 [==============================] - 0s 178us/sample - loss: 0.9527 - acc: 0.4483 - val_loss: 0.9194 - val_acc: 0.5333\n",
            "Epoch 14/50\n",
            "87/87 [==============================] - 0s 199us/sample - loss: 0.9403 - acc: 0.4483 - val_loss: 0.9108 - val_acc: 0.5667\n",
            "Epoch 15/50\n",
            "87/87 [==============================] - 0s 154us/sample - loss: 0.9289 - acc: 0.5402 - val_loss: 0.9045 - val_acc: 0.6000\n",
            "Epoch 16/50\n",
            "87/87 [==============================] - 0s 191us/sample - loss: 0.9159 - acc: 0.5862 - val_loss: 0.8918 - val_acc: 0.7000\n",
            "Epoch 17/50\n",
            "87/87 [==============================] - 0s 167us/sample - loss: 0.9045 - acc: 0.6207 - val_loss: 0.8770 - val_acc: 0.7000\n",
            "Epoch 18/50\n",
            "87/87 [==============================] - 0s 135us/sample - loss: 0.8908 - acc: 0.6437 - val_loss: 0.8714 - val_acc: 0.7667\n",
            "Epoch 19/50\n",
            "87/87 [==============================] - 0s 191us/sample - loss: 0.8792 - acc: 0.6437 - val_loss: 0.8547 - val_acc: 0.8333\n",
            "Epoch 20/50\n",
            "87/87 [==============================] - 0s 163us/sample - loss: 0.8657 - acc: 0.6552 - val_loss: 0.8456 - val_acc: 0.8667\n",
            "Epoch 21/50\n",
            "87/87 [==============================] - 0s 264us/sample - loss: 0.8530 - acc: 0.6782 - val_loss: 0.8397 - val_acc: 0.8333\n",
            "Epoch 22/50\n",
            "87/87 [==============================] - 0s 176us/sample - loss: 0.8397 - acc: 0.6667 - val_loss: 0.8269 - val_acc: 0.8333\n",
            "Epoch 23/50\n",
            "87/87 [==============================] - 0s 168us/sample - loss: 0.8278 - acc: 0.6782 - val_loss: 0.8099 - val_acc: 0.8333\n",
            "Epoch 24/50\n",
            "87/87 [==============================] - 0s 223us/sample - loss: 0.8139 - acc: 0.6782 - val_loss: 0.7952 - val_acc: 0.8333\n",
            "Epoch 25/50\n",
            "87/87 [==============================] - 0s 161us/sample - loss: 0.8009 - acc: 0.6782 - val_loss: 0.7825 - val_acc: 0.8333\n",
            "Epoch 26/50\n",
            "87/87 [==============================] - 0s 184us/sample - loss: 0.7871 - acc: 0.6897 - val_loss: 0.7679 - val_acc: 0.8333\n",
            "Epoch 27/50\n",
            "87/87 [==============================] - 0s 159us/sample - loss: 0.7749 - acc: 0.6897 - val_loss: 0.7575 - val_acc: 0.8333\n",
            "Epoch 28/50\n",
            "87/87 [==============================] - 0s 175us/sample - loss: 0.7642 - acc: 0.7126 - val_loss: 0.7400 - val_acc: 0.8333\n",
            "Epoch 29/50\n",
            "87/87 [==============================] - 0s 147us/sample - loss: 0.7496 - acc: 0.7126 - val_loss: 0.7256 - val_acc: 0.8333\n",
            "Epoch 30/50\n",
            "87/87 [==============================] - 0s 172us/sample - loss: 0.7382 - acc: 0.7011 - val_loss: 0.7041 - val_acc: 0.8667\n",
            "Epoch 31/50\n",
            "87/87 [==============================] - 0s 137us/sample - loss: 0.7288 - acc: 0.7126 - val_loss: 0.6997 - val_acc: 0.8333\n",
            "Epoch 32/50\n",
            "87/87 [==============================] - 0s 145us/sample - loss: 0.7152 - acc: 0.7241 - val_loss: 0.6866 - val_acc: 0.8333\n",
            "Epoch 33/50\n",
            "87/87 [==============================] - 0s 204us/sample - loss: 0.7052 - acc: 0.7241 - val_loss: 0.6740 - val_acc: 0.8333\n",
            "Epoch 34/50\n",
            "87/87 [==============================] - 0s 150us/sample - loss: 0.6927 - acc: 0.7241 - val_loss: 0.6731 - val_acc: 0.8000\n",
            "Epoch 35/50\n",
            "87/87 [==============================] - 0s 135us/sample - loss: 0.6831 - acc: 0.7241 - val_loss: 0.6719 - val_acc: 0.8000\n",
            "Epoch 36/50\n",
            "87/87 [==============================] - 0s 190us/sample - loss: 0.6747 - acc: 0.7241 - val_loss: 0.6676 - val_acc: 0.8000\n",
            "Epoch 37/50\n",
            "87/87 [==============================] - 0s 153us/sample - loss: 0.6638 - acc: 0.7241 - val_loss: 0.6554 - val_acc: 0.8000\n",
            "Epoch 38/50\n",
            "87/87 [==============================] - 0s 192us/sample - loss: 0.6537 - acc: 0.7241 - val_loss: 0.6312 - val_acc: 0.8000\n",
            "Epoch 39/50\n",
            "87/87 [==============================] - 0s 143us/sample - loss: 0.6442 - acc: 0.7356 - val_loss: 0.6168 - val_acc: 0.8333\n",
            "Epoch 40/50\n",
            "87/87 [==============================] - 0s 148us/sample - loss: 0.6361 - acc: 0.7356 - val_loss: 0.6023 - val_acc: 0.8333\n",
            "Epoch 41/50\n",
            "87/87 [==============================] - 0s 230us/sample - loss: 0.6270 - acc: 0.7471 - val_loss: 0.6016 - val_acc: 0.8333\n",
            "Epoch 42/50\n",
            "87/87 [==============================] - 0s 195us/sample - loss: 0.6187 - acc: 0.7471 - val_loss: 0.5956 - val_acc: 0.8333\n",
            "Epoch 43/50\n",
            "87/87 [==============================] - 0s 276us/sample - loss: 0.6123 - acc: 0.7586 - val_loss: 0.5997 - val_acc: 0.8333\n",
            "Epoch 44/50\n",
            "87/87 [==============================] - 0s 232us/sample - loss: 0.6033 - acc: 0.7586 - val_loss: 0.5818 - val_acc: 0.8333\n",
            "Epoch 45/50\n",
            "87/87 [==============================] - 0s 244us/sample - loss: 0.5950 - acc: 0.7586 - val_loss: 0.5720 - val_acc: 0.8333\n",
            "Epoch 46/50\n",
            "87/87 [==============================] - 0s 171us/sample - loss: 0.5869 - acc: 0.7586 - val_loss: 0.5659 - val_acc: 0.8333\n",
            "Epoch 47/50\n",
            "87/87 [==============================] - 0s 174us/sample - loss: 0.5823 - acc: 0.7586 - val_loss: 0.5669 - val_acc: 0.8333\n",
            "Epoch 48/50\n",
            "87/87 [==============================] - 0s 181us/sample - loss: 0.5744 - acc: 0.7701 - val_loss: 0.5505 - val_acc: 0.8333\n",
            "Epoch 49/50\n",
            "87/87 [==============================] - 0s 196us/sample - loss: 0.5665 - acc: 0.7701 - val_loss: 0.5505 - val_acc: 0.8333\n",
            "Epoch 50/50\n",
            "87/87 [==============================] - 0s 177us/sample - loss: 0.5598 - acc: 0.7701 - val_loss: 0.5457 - val_acc: 0.8333\n"
          ],
          "name": "stdout"
        }
      ]
    },
    {
      "cell_type": "markdown",
      "metadata": {
        "id": "qaF0yHzAfhyg",
        "colab_type": "text"
      },
      "source": [
        "- **Visualization of results**\n",
        "\n",
        "We plot the historical data of the model using the matplot library. We create two charts to show how accuracy and loss improved with the number of epochs. Then we also print out the accuracy and loss of the last validation result.\n",
        "\n",
        "Further, we are printing out a summary of the model.\n"
      ]
    },
    {
      "cell_type": "code",
      "metadata": {
        "id": "-mirV-Gqfhyh",
        "colab_type": "code",
        "outputId": "a550f2cc-6376-414e-d5bf-71e22c8d7dbd",
        "colab": {
          "base_uri": "https://localhost:8080/",
          "height": 903
        }
      },
      "source": [
        "# Plot training & validation accuracy values\n",
        "plt.plot(history.history['acc'])\n",
        "plt.plot(history.history['val_acc'])\n",
        "plt.title('Model accuracy')\n",
        "plt.ylabel('Accuracy')\n",
        "plt.xlabel('Epoch')\n",
        "plt.legend(['Train', 'Test'], loc='upper left')\n",
        "plt.show()\n",
        "\n",
        "# Plot training & validation loss values\n",
        "plt.plot(history.history['loss'])\n",
        "plt.plot(history.history['val_loss'])\n",
        "plt.title('Model loss')\n",
        "plt.ylabel('Loss')\n",
        "plt.xlabel('Epoch')\n",
        "plt.legend(['Train', 'Test'], loc='upper left')\n",
        "plt.show()\n",
        "\n",
        "print(\"last accuracy: \",history.history['val_acc'][-1:])\n",
        "print(\"last loss: \",history.history['val_loss'][-1:], \"\\n\")\n",
        "\n",
        "\n",
        "model.summary()"
      ],
      "execution_count": 25,
      "outputs": [
        {
          "output_type": "display_data",
          "data": {
            "image/png": "[encoded data removed]",
            "text/plain": [
              "<Figure size 432x288 with 1 Axes>"
            ]
          },
          "metadata": {
            "tags": []
          }
        },
        {
          "output_type": "display_data",
          "data": {
            "image/png": "[encoded data removed]",
            "text/plain": [
              "<Figure size 432x288 with 1 Axes>"
            ]
          },
          "metadata": {
            "tags": []
          }
        },
        {
          "output_type": "stream",
          "text": [
            "last accuracy:  [0.8333333]\n",
            "last loss:  [0.5457092523574829] \n",
            "\n",
            "Model: \"sequential_3\"\n",
            "_________________________________________________________________\n",
            "Layer (type)                 Output Shape              Param #   \n",
            "=================================================================\n",
            "dense_12 (Dense)             multiple                  90        \n",
            "_________________________________________________________________\n",
            "dense_13 (Dense)             multiple                  1280      \n",
            "_________________________________________________________________\n",
            "dense_14 (Dense)             multiple                  3612      \n",
            "_________________________________________________________________\n",
            "dense_15 (Dense)             multiple                  87        \n",
            "=================================================================\n",
            "Total params: 5,069\n",
            "Trainable params: 5,069\n",
            "Non-trainable params: 0\n",
            "_________________________________________________________________\n"
          ],
          "name": "stdout"
        }
      ]
    },
    {
      "cell_type": "markdown",
      "metadata": {
        "id": "gX3gLycEfhyp",
        "colab_type": "text"
      },
      "source": [
        "- **Weightings**\n",
        "\n",
        "We want to find out to which of our input features our model gave the highest weighting. We do this by getting the weightings from the model after the training and plotting it using a horizontal bar chart. "
      ]
    },
    {
      "cell_type": "code",
      "metadata": {
        "id": "tmP3pg5Wfhyr",
        "colab_type": "code",
        "outputId": "97d44a2a-a5b5-428a-b853-a32283dbe555",
        "colab": {
          "base_uri": "https://localhost:8080/",
          "height": 269
        }
      },
      "source": [
        "p = model.layers[0].get_weights()\n",
        "\n",
        "weights = (p[-1:][0])\n",
        "\n",
        "wf = pd.DataFrame()\n",
        "wf = wf.assign(weights = weights)\n",
        "wf = wf.assign(feature = x_df.columns)\n",
        "\n",
        "wf = wf.sort_values(by=['weights'])\n",
        "\n",
        "ax = wf.plot.barh(x='feature', y='weights')\n"
      ],
      "execution_count": 26,
      "outputs": [
        {
          "output_type": "display_data",
          "data": {
            "image/png": "[encoded data removed]",
            "text/plain": [
              "<Figure size 432x288 with 1 Axes>"
            ]
          },
          "metadata": {
            "tags": []
          }
        }
      ]
    },
    {
      "cell_type": "markdown",
      "metadata": {
        "id": "4rBHuvp2fhyx",
        "colab_type": "text"
      },
      "source": [
        "## 3. The combination of the both systems\n",
        "\n",
        "In application, we recommend to choose an approach where the systems run in parallel with a multiplexer subsequent.\n",
        "\n",
        "![Multiplex + Parallel architecture](https://i.ibb.co/86nxjdS/multiplex.jpg)\n",
        "\n",
        "\n",
        "As the multiplexer we here use another decision table, i.e. the last decision is done manually by an employee. It would be quite easy to translate this into a prolog program, which we would also recommend for run-time implementation, for the purpose of demonstrating the functionality in this project the decision table better serves the purpose.\n",
        "\n",
        "![Decision Table Conflicting Results](https://i.ibb.co/Hh0Qn3Y/DTexpert-Knowledge.jpg)\n",
        "\n",
        "Both systems have their strong suites and the two systems act independently up to the Multiplex. Receiving the same result from both calculations is the happy path, no further assessment required, we can utilize the result as is as intended. \n",
        "\n",
        "### Presence\n",
        "\n",
        "From the results of the analysis using the neural network, we learned that additional factors to what was derived from the expert interviews potentially bear a greater influence than assumed. Thus, it is worth considering amending the rule-based system accordingly. \n",
        "Our recommendation is to organize a consortium, including experienced risk assessment experts, business analysts and also data analysts, to evaluate the statistical and commercial impact of these variations. If a factor is deemed worth considering in the application process, it is incorporated into the rule-based system before it goes live.\n",
        "\n",
        "\n",
        "### Outlook and recommendations\n",
        "\n",
        "Naturally, society is always in movement and so are its members; and progress is produced in exhillirating speed. New and expensive treatments are developed continiously. Further, in very short periods of time, health insurance companies have to deal with treatment costs of illnesses not even discovered yet. And last but not least, the habits of members of the ever changing society influence their health as well.\n",
        "All of this exhibits, that the performed analytic steps and translation into useful business systems cannot be an one-time event. Therefore, we propose a semi-automated approach with two main control processes:\n",
        "\n",
        "**1. Periodic manual assessment of insights gained from machine learning analysis, compared with the current runtime rule-based system.**\n",
        "\n",
        "We recommend a scheduled, periodic review/repetition of the data analysis making use of the neural network. The idea here is to basically repeat the process documented in this dossier and refine the deployed system with newly gained insights based on more recent data.\n",
        "Further, we strongly recommend to include further applicant data into the machine learning part, such as *treatment cost(!), area of profession, addiction history and level of activity (sports)*. Incorporating the cost level and more variables that are expected to have great influence on the cost level will greatly improve the value the system generates for the company.\n",
        "As a general rule we recommend a review every semester or every year, in order to detect longterm trends and be able to react proactively.\n",
        "\n",
        "\n",
        "\n",
        "**2. Dynamic monitoring of rule-based system in real time**\n",
        "\n",
        "The second measure we propose is thought as an alert system for sudden changes with great impact.\n",
        "For this scenario, we imagine a cardiac pacemaker that was implanted frequently a few years ago and now starts to fail frequently. This development might be fast enough to evade the periodic assessment, but could potentially be of great impact for projected cost with new applicants (i.e. accepted applicants causing immediate high costs after being accepted).\n",
        "To cover this scenario, we propose to deploy the trained neural network in a parent system overviewing the rule-based system in application. This overarching system is automatically feeding the neural network with recent data and comparing them to the current factors and weightings in the decision-based system (numeric values would have to be assigned). If the deviation between the calculated value for a factor is greater than a defined number, e.g. >= 0.5, then a special alert is issued to the authority responsible for the applications, which has to assess the deviation. \n",
        "\n"
      ]
    },
    {
      "cell_type": "markdown",
      "metadata": {
        "id": "z7Smdq96fhy0",
        "colab_type": "text"
      },
      "source": [
        "## A students perspective\n",
        "\n",
        "Retrospectively, this project was very insightful on where the pitfalls lay, both on the rule-based part and the machine-learning part. We here provide some insights on where we faced difficulties and what we think can be done in the future to avoid similar obstacles.\n",
        "\n",
        "\n",
        "### Rule-based System\n",
        "\n",
        "In this part, we faced two major difficulties. \n",
        "First, undersanding the concepts of the programming language Prolog was challanging. All uf us are native in the object-based language \"Java\". Especially to understand, how the predicates in prolog do and especially do not compare to the functions in Java.\n",
        "Second, as previously mentioned, we first struggeled with the interpretation of the natural language form the expert knowledge and the task description was recorded in. We had to learn how crucial it is to be able to understand what the initiator wants. Already the slightest missunderstanding might impact the outcome of such a logic system severely. The gained insight here is, that in a fully fletched business scenario a written project definition/instruction is not enough. Recurring exchanges between the system architects/programmers and the experts/project sponsors has to take place, in order to clear possible missunderstandings.\n",
        "\n",
        "\n",
        "### Machine-learning Sytem\n",
        "\n",
        "From the machine-learning part, we don't have to report difficulties in that sense, but rather capture important factors we learned to pay close attention too.\n",
        "First, working in Google Colab was a very good experience. This tool greatly enhanced the group work on the machine-learning part.\n",
        "Second, the direct relation of the input data with the input layer of the network needs to be considered very carefully. In the process of refining the network, we normalized the data in three intervals on three points of time. Every time, we had to carefully match the network to the changes in the input data set for it to produce meaningful results. An example of that is the normalization of the \"disease\"-column into three columns \"heart\", \"diabetis\" and \"cholesterol\" which resulted in an increase in input neurons.\n",
        "Third, at the beginning we tended to overfit the model, i.e. set too many layers and epochs. The insight is, that in machine-learning the Slogan \"the more the better\" does not apply.\n",
        "\n",
        "\n"
      ]
    }
  ]
}